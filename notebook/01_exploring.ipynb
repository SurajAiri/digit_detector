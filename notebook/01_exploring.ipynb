{
 "cells": [
  {
   "cell_type": "code",
   "execution_count": 1,
   "id": "475d299a-1149-4a3a-a299-1d1558b8e775",
   "metadata": {},
   "outputs": [],
   "source": [
    "import numpy as np\n",
    "import cv2 as cv\n",
    "import os"
   ]
  },
  {
   "cell_type": "code",
   "execution_count": 24,
   "id": "799177c9-3561-493a-abd8-36cf908bc43d",
   "metadata": {},
   "outputs": [],
   "source": [
    "import matplotlib.pyplot as plt\n",
    "from PIL import Image"
   ]
  },
  {
   "cell_type": "code",
   "execution_count": 19,
   "id": "79bd0f37-4539-49bf-9e38-a2b34a6ae520",
   "metadata": {},
   "outputs": [],
   "source": [
    "mX = []\n",
    "my = []\n",
    "path = 'data-collection'\n",
    "for dir in os.listdir(path):\n",
    "    # print(int(dir))\n",
    "    for file in os.listdir(f\"{path}/{dir}\"):\n",
    "        p = f'{path}/{dir}/{file}'\n",
    "        img = cv.imread(p)\n",
    "        img = cv.cvtColor(img,cv.COLOR_BGR2GRAY)\n",
    "        mX.append(img)\n",
    "        my.append(int(dir))\n",
    "        # print(p, img.shape,int(dir))\n",
    "\n",
    "    "
   ]
  },
  {
   "cell_type": "code",
   "execution_count": 57,
   "id": "fe4ec480-f112-4aaf-8b0f-9067adaae9a7",
   "metadata": {},
   "outputs": [
    {
     "data": {
      "text/plain": [
       "<matplotlib.image.AxesImage at 0x11004e950>"
      ]
     },
     "execution_count": 57,
     "metadata": {},
     "output_type": "execute_result"
    },
    {
     "data": {
      "image/png": "[encoded data removed]",
      "text/plain": [
       "<Figure size 640x480 with 1 Axes>"
      ]
     },
     "metadata": {},
     "output_type": "display_data"
    }
   ],
   "source": [
    "# plt.imshow((im + 40) % 255)\n",
    "plt.imshow((255 - (im + 40)) % 255)"
   ]
  },
  {
   "cell_type": "code",
   "execution_count": 45,
   "id": "18fa3748-5e50-4262-9e92-cccd4c9e65be",
   "metadata": {},
   "outputs": [],
   "source": [
    "# img1 = cv.imread(\"data-collection/0/0.png\")\n",
    "# _,th1 = cv.threshold((im + 40) % 255, 125, 255,cv.THRESH_BINARY)\n",
    "# th1"
   ]
  },
  {
   "cell_type": "code",
   "execution_count": 47,
   "id": "5a950bb8-9a4f-48ce-8001-24a3b8f623c7",
   "metadata": {},
   "outputs": [],
   "source": [
    "# plt.imshow(th1)"
   ]
  },
  {
   "cell_type": "code",
   "execution_count": 50,
   "id": "6039bafe-57e2-4416-b32f-7d93797d6315",
   "metadata": {},
   "outputs": [],
   "source": [
    "np.set_printoptions(linewidth=np.inf)\n"
   ]
  },
  {
   "cell_type": "code",
   "execution_count": null,
   "id": "ac997041-56d2-49ff-b4f2-f077a7dd4f9f",
   "metadata": {},
   "outputs": [],
   "source": []
  },
  {
   "cell_type": "code",
   "execution_count": 54,
   "id": "7e2d5863-f23a-4992-b44a-d32bd354cd56",
   "metadata": {},
   "outputs": [
    {
     "name": "stdout",
     "output_type": "stream",
     "text": [
      "[[  0   0   0   0   0   0   0   0   0   0   0   0   0   0   0   0   0   0   0   0   0   0   0   0   0   0   0   0]\n",
      " [  0   0   0   0   0   0   0   0  14  53  95 104 104  67   8   0   0   0   0   0   0   0   0   0   0   0   0   0]\n",
      " [  0   0   0   0   0   0   0  57 143 170 185 185 185 126   0   0   0   0   0   0   0   0   0   0   0   0   0   0]\n",
      " [  0   0   0   0   0   0  97 157 181 177 166 164 164 111 125 111  84  45   8   0   0   0   0   0   0   0   0   0]\n",
      " [  0   0   0   0   0  59 154 185 130  70  23  20  20  62 185 185 183 177 129  32   0   0   0   0   0   0   0   0]\n",
      " [  0   0   0   0   0 105 181 155  24   0   0   0   0  39 138 138 152 177 185 130  32   0   0   0   0   0   0   0]\n",
      " [  0   0   0   0   9 137 179 116   0   0   0   0   0   0   0   8  37  86 157 177 122   4   0   0   0   0   0   0]\n",
      " [  0   0   0   0  17 148 185 109   0   0   0   0   0   0   0   0   0   0  91 181 163  55   0   0   0   0   0   0]\n",
      " [  0   0   0   0   9 130 174 118   0   0   0   0   0   0   0   0   0   0  22 152 185 117   0   0   0   0   0   0]\n",
      " [  0   0   0   0   0  67 149 159  99   0   0   0   0   0   0   0   0   0   0 115 185 157  24   0   0   0   0   0]\n",
      " [  0   0   0   0   0   5 131 185 185 113  31   0   0   0   0   0   0   0   0  66 185 170  57   0   0   0   0   0]\n",
      " [  0   0   0   0   0   0  28 137 185 185 164 111  71  42  23  20  21  42  87 130 185 168  59   0   0   0   0   0]\n",
      " [  0   0   0   0   0   0   0  17 112 181 185 185 185 181 166 164 164 181 185 185 178 112   3   0   0   0   0   0]\n",
      " [  0   0   0   0   0   0   0   0   0  54 117 155 181 185 185 185 185 185 169 140  92  19   0   0   0   0   0   0]\n",
      " [  0   0   0   0   0   0   0   0   0   0  66 146 162 185 185 185 185 181 166 109  17   0   0   0   0   0   0   0]\n",
      " [  0   0   0   0   0   0   0   0   0  77 151 185 185 160 136 130 141 185 185 178 137  32   0   0   0   0   0   0]\n",
      " [  0   0   0   0   0   0   0   0  27 144 184 134  76  36  14   0  38  97 121 174 183 114   4   0   0   0   0   0]\n",
      " [  0   0   0   0   0   0   0   0  74 185 185  45   0   0   0   0   0   0   0  80 159 164  75   0   0   0   0   0]\n",
      " [  0   0   0   0   0   0   0   0  41 143 175 105   0   0   0   0   0   0   0   9 149 185 130   1   0   0   0   0]\n",
      " [  0   0   0   0   0   0   0   0   6 109 185 183 110  39   0   0   0   0   0   0 103 185 168  38   0   0   0   0]\n",
      " [  0   0   0   0   0   0   0   0   0  22 128 170 185 173 131 104  58  36  23  20  71 184 177  74   0   0   0   0]\n",
      " [  0   0   0   0   0   0   0   0   0   0   9 104 172 185 185 185 185 178 167 164 163 184 155  76   0   0   0   0]\n",
      " [  0   0   0   0   0   0   0   0   0   0   0   0  35 103 139 163 167 185 185 185 185 185 105  25   0   0   0   0]\n",
      " [  0   0   0   0   0   0   0   0   0   0   0   0   0   0   1  21  45  78  97 105 102  85  19   0   0   0   0   0]\n",
      " [  0   0   0   0   0   0   0   0   0   0   0   0   0   0   0   0   0   0   0   0   0   0   0   0   0   0   0   0]\n",
      " [  0   0   0   0   0   0   0   0   0   0   0   0   0   0   0   0   0   0   0   0   0   0   0   0   0   0   0   0]\n",
      " [  0   0   0   0   0   0   0   0   0   0   0   0   0   0   0   0   0   0   0   0   0   0   0   0   0   0   0   0]\n",
      " [  0   0   0   0   0   0   0   0   0   0   0   0   0   0   0   0   0   0   0   0   0   0   0   0   0   0   0   0]]\n"
     ]
    }
   ],
   "source": [
    "# img1 = cv.imread(\"data-collection/0/0.png\")\n",
    "im = Image.open(r\"data-collection/8/0.png\")  \n",
    "im = im.convert('L')\n",
    "im = np.array(im)\n",
    "print((255 - (im + 40)) % 255)"
   ]
  },
  {
   "cell_type": "code",
   "execution_count": null,
   "id": "8474755c-13ed-461f-b173-07b631973f04",
   "metadata": {},
   "outputs": [],
   "source": []
  },
  {
   "cell_type": "code",
   "execution_count": 12,
   "id": "dbf8f06b-01f3-4a0f-b150-f0a170a5f317",
   "metadata": {},
   "outputs": [],
   "source": [
    "# cv.cvtColor(img1,cv.COLOR_BGR2GRAY).reshape(-1)\n",
    "# cv.cvtColor(img1,cv.COLOR_BGR2GRAY).reshape(-1).shape"
   ]
  },
  {
   "cell_type": "code",
   "execution_count": 23,
   "id": "0092abf2-301d-4bed-87e6-0823e7cb4fe1",
   "metadata": {},
   "outputs": [
    {
     "data": {
      "text/plain": [
       "<matplotlib.image.AxesImage at 0x16e2b18d0>"
      ]
     },
     "execution_count": 23,
     "metadata": {},
     "output_type": "execute_result"
    },
    {
     "data": {
      "image/png": "[encoded data removed]",
      "text/plain": [
       "<Figure size 640x480 with 1 Axes>"
      ]
     },
     "metadata": {},
     "output_type": "display_data"
    }
   ],
   "source": [
    "plt.imshow(mX[0])"
   ]
  },
  {
   "cell_type": "code",
   "execution_count": 58,
   "id": "9c5862b7-0ff3-43ce-95d2-5f5bdead8ed6",
   "metadata": {},
   "outputs": [],
   "source": [
    "# mX[0]\n"
   ]
  },
  {
   "cell_type": "code",
   "execution_count": 32,
   "id": "f5a8d0c0-61ea-4fc4-acfc-b145beefd83c",
   "metadata": {},
   "outputs": [],
   "source": [
    "import tensorflow as tf"
   ]
  },
  {
   "cell_type": "code",
   "execution_count": 33,
   "id": "a8a8ad10-7ca8-4f05-9ea5-3717a379e1d9",
   "metadata": {},
   "outputs": [],
   "source": [
    "from tensorflow.keras.datasets.mnist import load_data"
   ]
  },
  {
   "cell_type": "code",
   "execution_count": 34,
   "id": "8a5db31b-d1be-475a-8d53-f285518320b1",
   "metadata": {},
   "outputs": [],
   "source": [
    "(X_train, y_train), (X_test, y_test) = load_data()"
   ]
  },
  {
   "cell_type": "code",
   "execution_count": 36,
   "id": "e59f9bd9-5433-4c38-b875-0b632adbe0f4",
   "metadata": {},
   "outputs": [
    {
     "data": {
      "text/plain": [
       "<matplotlib.image.AxesImage at 0x16e3d7b50>"
      ]
     },
     "execution_count": 36,
     "metadata": {},
     "output_type": "execute_result"
    },
    {
     "data": {
      "image/png": "[encoded data removed]",
      "text/plain": [
       "<Figure size 640x480 with 1 Axes>"
      ]
     },
     "metadata": {},
     "output_type": "display_data"
    }
   ],
   "source": [
    "plt.imshow(X_train[0])"
   ]
  },
  {
   "cell_type": "code",
   "execution_count": 59,
   "id": "94c8f3df-9165-47f3-8b7d-0d13d1592361",
   "metadata": {},
   "outputs": [],
   "source": [
    "# X_train[0]"
   ]
  },
  {
   "cell_type": "code",
   "execution_count": 8,
   "id": "ef4150e0-e88a-49d1-b082-4b9da5719e5d",
   "metadata": {},
   "outputs": [
    {
     "data": {
      "text/plain": [
       "numpy.ndarray"
      ]
     },
     "execution_count": 8,
     "metadata": {},
     "output_type": "execute_result"
    }
   ],
   "source": [
    "type(X_train)"
   ]
  },
  {
   "cell_type": "code",
   "execution_count": 9,
   "id": "bc1c362b-7db8-46a3-ad30-5563a3a1c2b4",
   "metadata": {},
   "outputs": [
    {
     "data": {
      "text/plain": [
       "((213, 28, 28), (213,))"
      ]
     },
     "execution_count": 9,
     "metadata": {},
     "output_type": "execute_result"
    }
   ],
   "source": [
    "np.array(mX).shape, np.array(my).shape"
   ]
  },
  {
   "cell_type": "code",
   "execution_count": 42,
   "id": "12162bb0-dbc3-49e5-b50f-e665b3fe34db",
   "metadata": {},
   "outputs": [],
   "source": [
    "X_train_new = np.append(X_train, mX,axis=0)"
   ]
  },
  {
   "cell_type": "code",
   "execution_count": 28,
   "id": "34142c74-0f24-46b5-87a8-e76e5ea785d4",
   "metadata": {},
   "outputs": [],
   "source": [
    "y_train_new = np.append(y_train,my)"
   ]
  },
  {
   "cell_type": "code",
   "execution_count": 43,
   "id": "fbb540bc-642d-4638-a814-22517b7bea70",
   "metadata": {},
   "outputs": [
    {
     "data": {
      "text/plain": [
       "((60213, 28, 28), (60213,))"
      ]
     },
     "execution_count": 43,
     "metadata": {},
     "output_type": "execute_result"
    }
   ],
   "source": [
    "X_train_new.shape, y_train_new.shape"
   ]
  },
  {
   "cell_type": "code",
   "execution_count": 44,
   "id": "77b98ede-e992-44f9-a5bf-17ef2d80b64e",
   "metadata": {},
   "outputs": [
    {
     "data": {
      "text/plain": [
       "((60213, 784, 1), (10000, 784, 1))"
      ]
     },
     "execution_count": 44,
     "metadata": {},
     "output_type": "execute_result"
    }
   ],
   "source": [
    "X_train_flat = X_train_new.reshape(-1,28*28,1)\n",
    "X_test_flat = X_test.reshape(-1,28*28,1)\n",
    "X_train_flat.shape, X_test_flat.shape"
   ]
  },
  {
   "cell_type": "code",
   "execution_count": 45,
   "id": "30afe787-ac63-4dac-8825-caf871af81a4",
   "metadata": {},
   "outputs": [],
   "source": [
    "# defining ANN model\n",
    "model = tf.keras.Sequential([\n",
    "                             tf.keras.layers.Dense(32,activation='relu',input_shape=(28*28,)),\n",
    "                             tf.keras.layers.Dense(64,activation='relu'),\n",
    "                             tf.keras.layers.Dense(10,activation='softmax')])"
   ]
  },
  {
   "cell_type": "code",
   "execution_count": 46,
   "id": "9d5eb844-2be0-4e2c-b03f-2221dec64fb2",
   "metadata": {},
   "outputs": [],
   "source": [
    "model.compile(optimizer='adam',loss='sparse_categorical_crossentropy',metrics=['accuracy'])"
   ]
  },
  {
   "cell_type": "code",
   "execution_count": 48,
   "id": "fd7a9361-23b4-4e58-8b5e-5d9b43f207e0",
   "metadata": {},
   "outputs": [
    {
     "name": "stdout",
     "output_type": "stream",
     "text": [
      "Epoch 1/10\n"
     ]
    },
    {
     "name": "stderr",
     "output_type": "stream",
     "text": [
      "2024-03-08 11:14:48.117198: W tensorflow/tsl/platform/profile_utils/cpu_utils.cc:128] Failed to get CPU frequency: 0 Hz\n"
     ]
    },
    {
     "name": "stdout",
     "output_type": "stream",
     "text": [
      "1882/1882 [==============================] - 1s 432us/step - loss: 1.2268 - accuracy: 0.6985\n",
      "Epoch 2/10\n",
      "1882/1882 [==============================] - 1s 428us/step - loss: 0.5513 - accuracy: 0.8598\n",
      "Epoch 3/10\n",
      "1882/1882 [==============================] - 1s 417us/step - loss: 0.4888 - accuracy: 0.8803\n",
      "Epoch 4/10\n",
      "1882/1882 [==============================] - 1s 423us/step - loss: 0.4580 - accuracy: 0.8894\n",
      "Epoch 5/10\n",
      "1882/1882 [==============================] - 1s 414us/step - loss: 0.4287 - accuracy: 0.8972\n",
      "Epoch 6/10\n",
      "1882/1882 [==============================] - 1s 419us/step - loss: 0.4018 - accuracy: 0.9015\n",
      "Epoch 7/10\n",
      "1882/1882 [==============================] - 1s 417us/step - loss: 0.3703 - accuracy: 0.9074\n",
      "Epoch 8/10\n",
      "1882/1882 [==============================] - 1s 408us/step - loss: 0.3531 - accuracy: 0.9099\n",
      "Epoch 9/10\n",
      "1882/1882 [==============================] - 1s 414us/step - loss: 0.3275 - accuracy: 0.9141\n",
      "Epoch 10/10\n",
      "1882/1882 [==============================] - 1s 418us/step - loss: 0.3066 - accuracy: 0.9177\n"
     ]
    },
    {
     "data": {
      "text/plain": [
       "<keras.callbacks.History at 0x160fda090>"
      ]
     },
     "execution_count": 48,
     "metadata": {},
     "output_type": "execute_result"
    }
   ],
   "source": [
    "model.fit(X_train_flat,y_train_new,epochs=10)"
   ]
  },
  {
   "cell_type": "code",
   "execution_count": 51,
   "id": "c4e39df8-3e29-4402-b23f-783ea09cf9eb",
   "metadata": {},
   "outputs": [],
   "source": [
    "def unison_shuffled_copies(a, b):\n",
    "    assert len(a) == len(b)\n",
    "    p = np.random.permutation(len(a))\n",
    "    return a[p], b[p]"
   ]
  },
  {
   "cell_type": "code",
   "execution_count": 53,
   "id": "798da45b-894f-4595-a937-7be2a8fdb6ed",
   "metadata": {},
   "outputs": [],
   "source": [
    "(X_t, y_t) = unison_shuffled_copies(X_train_flat,y_train_new)"
   ]
  },
  {
   "cell_type": "code",
   "execution_count": 54,
   "id": "95411dd7-8264-4512-a4c4-5fe7d3448bf2",
   "metadata": {},
   "outputs": [
    {
     "data": {
      "text/plain": [
       "((60213, 784, 1), (60213,))"
      ]
     },
     "execution_count": 54,
     "metadata": {},
     "output_type": "execute_result"
    }
   ],
   "source": [
    "X_t.shape, y_t.shape"
   ]
  },
  {
   "cell_type": "code",
   "execution_count": 55,
   "id": "ef0c8905-54ea-43cd-97f3-e7e9870537f1",
   "metadata": {},
   "outputs": [
    {
     "name": "stdout",
     "output_type": "stream",
     "text": [
      "Epoch 1/15\n",
      "1882/1882 [==============================] - 1s 409us/step - loss: 0.2943 - accuracy: 0.9207\n",
      "Epoch 2/15\n",
      "1882/1882 [==============================] - 1s 407us/step - loss: 0.2791 - accuracy: 0.9243\n",
      "Epoch 3/15\n",
      "1882/1882 [==============================] - 1s 405us/step - loss: 0.2735 - accuracy: 0.9263\n",
      "Epoch 4/15\n",
      "1882/1882 [==============================] - 1s 408us/step - loss: 0.2657 - accuracy: 0.9280\n",
      "Epoch 5/15\n",
      "1882/1882 [==============================] - 1s 403us/step - loss: 0.2561 - accuracy: 0.9291\n",
      "Epoch 6/15\n",
      "1882/1882 [==============================] - 1s 406us/step - loss: 0.2489 - accuracy: 0.9308\n",
      "Epoch 7/15\n",
      "1882/1882 [==============================] - 1s 405us/step - loss: 0.2443 - accuracy: 0.9329\n",
      "Epoch 8/15\n",
      "1882/1882 [==============================] - 1s 410us/step - loss: 0.2437 - accuracy: 0.9339\n",
      "Epoch 9/15\n",
      "1882/1882 [==============================] - 1s 402us/step - loss: 0.2380 - accuracy: 0.9348\n",
      "Epoch 10/15\n",
      "1882/1882 [==============================] - 1s 403us/step - loss: 0.2337 - accuracy: 0.9369\n",
      "Epoch 11/15\n",
      "1882/1882 [==============================] - 1s 403us/step - loss: 0.2328 - accuracy: 0.9361\n",
      "Epoch 12/15\n",
      "1882/1882 [==============================] - 1s 404us/step - loss: 0.2240 - accuracy: 0.9390\n",
      "Epoch 13/15\n",
      "1882/1882 [==============================] - 1s 408us/step - loss: 0.2182 - accuracy: 0.9403\n",
      "Epoch 14/15\n",
      "1882/1882 [==============================] - 1s 404us/step - loss: 0.2176 - accuracy: 0.9405\n",
      "Epoch 15/15\n",
      "1882/1882 [==============================] - 1s 403us/step - loss: 0.2126 - accuracy: 0.9417\n"
     ]
    },
    {
     "data": {
      "text/plain": [
       "<keras.callbacks.History at 0x1778d4d90>"
      ]
     },
     "execution_count": 55,
     "metadata": {},
     "output_type": "execute_result"
    }
   ],
   "source": [
    "model.fit(X_train_flat,y_train_new,epochs=15)"
   ]
  },
  {
   "cell_type": "code",
   "execution_count": 56,
   "id": "ba278e50-d2a9-4e4b-bf0b-f10baffce683",
   "metadata": {},
   "outputs": [],
   "source": [
    "model.save(\"ann-mnist-digit-8Mar-v02.keras\",save_format='keras')"
   ]
  },
  {
   "cell_type": "code",
   "execution_count": 65,
   "id": "e882fedf-48b7-4eb7-b067-72d3ae668c02",
   "metadata": {},
   "outputs": [
    {
     "data": {
      "text/plain": [
       "<matplotlib.image.AxesImage at 0x1102ed890>"
      ]
     },
     "execution_count": 65,
     "metadata": {},
     "output_type": "execute_result"
    },
    {
     "data": {
      "image/png": "[encoded data removed]",
      "text/plain": [
       "<Figure size 640x480 with 1 Axes>"
      ]
     },
     "metadata": {},
     "output_type": "display_data"
    }
   ],
   "source": [
    "plt.imshow(X_train[11])"
   ]
  },
  {
   "cell_type": "code",
   "execution_count": null,
   "id": "76434dd3-3558-4d6c-8ccc-c196812627c7",
   "metadata": {},
   "outputs": [],
   "source": []
  }
 ],
 "metadata": {
  "kernelspec": {
   "display_name": "Python 3 (ipykernel)",
   "language": "python",
   "name": "python3"
  },
  "language_info": {
   "codemirror_mode": {
    "name": "ipython",
    "version": 3
   },
   "file_extension": ".py",
   "mimetype": "text/x-python",
   "name": "python",
   "nbconvert_exporter": "python",
   "pygments_lexer": "ipython3",
   "version": "3.11.5"
  }
 },
 "nbformat": 4,
 "nbformat_minor": 5
}
