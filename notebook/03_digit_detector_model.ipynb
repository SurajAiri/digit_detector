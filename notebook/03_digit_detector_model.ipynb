{
 "cells": [
  {
   "cell_type": "code",
   "execution_count": 4,
   "id": "05b209df-5646-4c7d-8f22-6f6733e94c2d",
   "metadata": {},
   "outputs": [],
   "source": [
    "import tensorflow as tf\n",
    "from tensorflow.keras.datasets import mnist"
   ]
  },
  {
   "cell_type": "code",
   "execution_count": 6,
   "id": "153856f7-ba31-4f72-9672-5827c8938c51",
   "metadata": {},
   "outputs": [],
   "source": [
    "(x_train, y_train), (x_test, y_test) = mnist.load_data()"
   ]
  },
  {
   "cell_type": "code",
   "execution_count": 10,
   "id": "b7565ba2-3d3b-4649-8d6b-da0ffa0fe49f",
   "metadata": {},
   "outputs": [],
   "source": [
    "import numpy as np\n",
    "import matplotlib.pyplot as plt"
   ]
  },
  {
   "cell_type": "code",
   "execution_count": 54,
   "id": "bec87d65-9b0e-4955-b0af-11833a87b382",
   "metadata": {},
   "outputs": [],
   "source": [
    "X_train = x_train/255\n",
    "X_test = x_test/255"
   ]
  },
  {
   "cell_type": "code",
   "execution_count": 55,
   "id": "ef963a36-5bfd-43cc-bece-e2b1dc4c9cfe",
   "metadata": {},
   "outputs": [
    {
     "name": "stdout",
     "output_type": "stream",
     "text": [
      "5\n"
     ]
    },
    {
     "data": {
      "text/plain": [
       "<matplotlib.image.AxesImage at 0x17b3fd650>"
      ]
     },
     "execution_count": 55,
     "metadata": {},
     "output_type": "execute_result"
    },
    {
     "data": {
      "image/png": "[encoded data removed]",
      "text/plain": [
       "<Figure size 640x480 with 1 Axes>"
      ]
     },
     "metadata": {},
     "output_type": "display_data"
    }
   ],
   "source": [
    "print(y_train[0])\n",
    "plt.imshow(X_train[0],cmap='grey')"
   ]
  },
  {
   "cell_type": "code",
   "execution_count": 72,
   "id": "9c35b08a-0802-4633-b123-42a07126ee7a",
   "metadata": {},
   "outputs": [
    {
     "data": {
      "text/plain": [
       "((60000, 784, 1), (10000, 784, 1))"
      ]
     },
     "execution_count": 72,
     "metadata": {},
     "output_type": "execute_result"
    }
   ],
   "source": [
    "X_train_flat = X_train.reshape(-1,28*28,1)\n",
    "X_test_flat = X_test.reshape(-1,28*28,1)\n",
    "X_train_flat.shape, X_test_flat.shape"
   ]
  },
  {
   "cell_type": "code",
   "execution_count": null,
   "id": "18d5cdbc-f154-4a53-96cf-cc00d7b7f5ea",
   "metadata": {},
   "outputs": [],
   "source": []
  },
  {
   "cell_type": "code",
   "execution_count": 73,
   "id": "471a33f9-9103-4777-9f2c-4dd42562503d",
   "metadata": {},
   "outputs": [],
   "source": [
    "# setting random seed value\n",
    "tf.random.set_seed(32)"
   ]
  },
  {
   "cell_type": "code",
   "execution_count": 115,
   "id": "abba5387-faa4-4ff9-9a43-406b13c11838",
   "metadata": {},
   "outputs": [],
   "source": [
    "# defining ANN model\n",
    "model = tf.keras.Sequential([\n",
    "                             tf.keras.layers.Dense(32,activation='relu',input_shape=(28*28,)),\n",
    "                             tf.keras.layers.Dense(64,activation='relu'),\n",
    "                             tf.keras.layers.Dense(10,activation='softmax')])"
   ]
  },
  {
   "cell_type": "code",
   "execution_count": 116,
   "id": "516d08c2-f15c-468f-a691-ed85888d50a8",
   "metadata": {},
   "outputs": [],
   "source": [
    "model.compile(optimizer='adam',loss='sparse_categorical_crossentropy',metrics=['accuracy'])"
   ]
  },
  {
   "cell_type": "code",
   "execution_count": 117,
   "id": "822708a2-65b2-4694-826b-c4dff5561a9e",
   "metadata": {},
   "outputs": [
    {
     "name": "stdout",
     "output_type": "stream",
     "text": [
      "Model: \"sequential_7\"\n",
      "_________________________________________________________________\n",
      " Layer (type)                Output Shape              Param #   \n",
      "=================================================================\n",
      " dense_21 (Dense)            (None, 32)                25120     \n",
      "                                                                 \n",
      " dense_22 (Dense)            (None, 64)                2112      \n",
      "                                                                 \n",
      " dense_23 (Dense)            (None, 10)                650       \n",
      "                                                                 \n",
      "=================================================================\n",
      "Total params: 27,882\n",
      "Trainable params: 27,882\n",
      "Non-trainable params: 0\n",
      "_________________________________________________________________\n"
     ]
    }
   ],
   "source": [
    "model.summary()"
   ]
  },
  {
   "cell_type": "code",
   "execution_count": 118,
   "id": "ac5cb230-4ceb-4b25-8fc9-7041ee098e52",
   "metadata": {},
   "outputs": [
    {
     "name": "stdout",
     "output_type": "stream",
     "text": [
      "Epoch 1/10\n",
      "1875/1875 [==============================] - 1s 420us/step - loss: 0.3172 - accuracy: 0.9094\n",
      "Epoch 2/10\n",
      "1875/1875 [==============================] - 1s 387us/step - loss: 0.1561 - accuracy: 0.9538\n",
      "Epoch 3/10\n",
      "1875/1875 [==============================] - 1s 387us/step - loss: 0.1184 - accuracy: 0.9649\n",
      "Epoch 4/10\n",
      "1875/1875 [==============================] - 1s 384us/step - loss: 0.0993 - accuracy: 0.9695\n",
      "Epoch 5/10\n",
      "1875/1875 [==============================] - 1s 385us/step - loss: 0.0844 - accuracy: 0.9744\n",
      "Epoch 6/10\n",
      "1875/1875 [==============================] - 1s 391us/step - loss: 0.0734 - accuracy: 0.9773\n",
      "Epoch 7/10\n",
      "1875/1875 [==============================] - 1s 391us/step - loss: 0.0654 - accuracy: 0.9794\n",
      "Epoch 8/10\n",
      "1875/1875 [==============================] - 1s 401us/step - loss: 0.0578 - accuracy: 0.9817\n",
      "Epoch 9/10\n",
      "1875/1875 [==============================] - 1s 394us/step - loss: 0.0509 - accuracy: 0.9840\n",
      "Epoch 10/10\n",
      "1875/1875 [==============================] - 1s 393us/step - loss: 0.0469 - accuracy: 0.9853\n"
     ]
    },
    {
     "data": {
      "text/plain": [
       "<keras.callbacks.History at 0x17c201e10>"
      ]
     },
     "execution_count": 118,
     "metadata": {},
     "output_type": "execute_result"
    }
   ],
   "source": [
    "model.fit(X_train_flat,y_train,epochs=10)"
   ]
  },
  {
   "cell_type": "code",
   "execution_count": 119,
   "id": "c1a86ad9-a915-4eec-9a6b-f121999bd8a0",
   "metadata": {},
   "outputs": [
    {
     "data": {
      "text/plain": [
       "(784, 1)"
      ]
     },
     "execution_count": 119,
     "metadata": {},
     "output_type": "execute_result"
    }
   ],
   "source": [
    "X_test_flat[0].shape"
   ]
  },
  {
   "cell_type": "code",
   "execution_count": 120,
   "id": "fe2a3eb5-b2f1-4e4d-9d9d-5486d04a081e",
   "metadata": {},
   "outputs": [],
   "source": [
    "t = np.array(X_test_flat[0],dtype=np.float32)"
   ]
  },
  {
   "cell_type": "code",
   "execution_count": 121,
   "id": "f70247fd-d0e2-4f99-8e6a-12a248df5dc2",
   "metadata": {},
   "outputs": [
    {
     "name": "stdout",
     "output_type": "stream",
     "text": [
      "1/1 [==============================] - 0s 21ms/step\n"
     ]
    },
    {
     "data": {
      "text/plain": [
       "7"
      ]
     },
     "execution_count": 121,
     "metadata": {},
     "output_type": "execute_result"
    }
   ],
   "source": [
    "model.predict(np.array([X_test_flat[0]])).argmax()"
   ]
  },
  {
   "cell_type": "code",
   "execution_count": 122,
   "id": "ee65a8db-c238-4787-9e1c-072cf49e0672",
   "metadata": {},
   "outputs": [
    {
     "data": {
      "text/plain": [
       "7"
      ]
     },
     "execution_count": 122,
     "metadata": {},
     "output_type": "execute_result"
    }
   ],
   "source": [
    "y_test[0]"
   ]
  },
  {
   "cell_type": "code",
   "execution_count": 123,
   "id": "5563bac5-a83d-4692-8fc9-6ac0e257ba72",
   "metadata": {},
   "outputs": [
    {
     "name": "stdout",
     "output_type": "stream",
     "text": [
      "313/313 [==============================] - 0s 230us/step\n"
     ]
    }
   ],
   "source": [
    "y_preds = model.predict(X_test_flat)"
   ]
  },
  {
   "cell_type": "code",
   "execution_count": 108,
   "id": "eac779eb-e956-475d-8b31-07e6b7cc710f",
   "metadata": {},
   "outputs": [],
   "source": [
    "from sklearn.metrics import accuracy_score"
   ]
  },
  {
   "cell_type": "code",
   "execution_count": 143,
   "id": "ee5eb08e-0380-4f47-84d3-22f781e89180",
   "metadata": {},
   "outputs": [],
   "source": [
    "y_p = [y.argmax() for y in y_preds]"
   ]
  },
  {
   "cell_type": "code",
   "execution_count": 144,
   "id": "671539dc-9025-4199-869e-1d112c6feebd",
   "metadata": {},
   "outputs": [
    {
     "data": {
      "text/plain": [
       "0.969"
      ]
     },
     "execution_count": 144,
     "metadata": {},
     "output_type": "execute_result"
    }
   ],
   "source": [
    "accuracy_score(y_test,y_p)"
   ]
  },
  {
   "cell_type": "code",
   "execution_count": 138,
   "id": "dba0e641-b141-4503-a55f-243c98605fca",
   "metadata": {},
   "outputs": [],
   "source": []
  },
  {
   "cell_type": "code",
   "execution_count": 140,
   "id": "c3bdaa41-8aae-4f7e-9168-471d1eaadf9d",
   "metadata": {},
   "outputs": [],
   "source": [
    "# model.save(\"ann-mnist-digit-v01.keras\",save_format='keras')"
   ]
  },
  {
   "cell_type": "code",
   "execution_count": 141,
   "id": "26a88f31-8f11-4f06-ba78-a73e5293cbc3",
   "metadata": {},
   "outputs": [],
   "source": [
    "# new_model = tf.keras.models.load_model('ann-mnist-digit-v01.keras')"
   ]
  },
  {
   "cell_type": "code",
   "execution_count": 1,
   "id": "865d3224-7ce2-40c0-98f4-902a572d8238",
   "metadata": {},
   "outputs": [],
   "source": [
    "# y_preds = new_model.predict(X_test_flat)"
   ]
  },
  {
   "cell_type": "code",
   "execution_count": null,
   "id": "d43c61ef-527f-40e1-a5ab-495396ca916d",
   "metadata": {},
   "outputs": [],
   "source": []
  }
 ],
 "metadata": {
  "kernelspec": {
   "display_name": "Python 3 (ipykernel)",
   "language": "python",
   "name": "python3"
  },
  "language_info": {
   "codemirror_mode": {
    "name": "ipython",
    "version": 3
   },
   "file_extension": ".py",
   "mimetype": "text/x-python",
   "name": "python",
   "nbconvert_exporter": "python",
   "pygments_lexer": "ipython3",
   "version": "3.11.5"
  }
 },
 "nbformat": 4,
 "nbformat_minor": 5
}
