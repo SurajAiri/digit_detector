{
 "cells": [
  {
   "cell_type": "code",
   "execution_count": 4,
   "id": "596508b9-369b-4dba-8ba4-699bae2ad8c8",
   "metadata": {},
   "outputs": [],
   "source": [
    "import numpy as np\n",
    "import cv2 as cv\n",
    "import matplotlib.pyplot as plt\n",
    "from PIL import Image"
   ]
  },
  {
   "cell_type": "code",
   "execution_count": 20,
   "id": "5d64db67-d215-4110-b56e-b846f3d76967",
   "metadata": {},
   "outputs": [],
   "source": [
    "np.set_printoptions(linewidth=np.inf)"
   ]
  },
  {
   "cell_type": "code",
   "execution_count": 27,
   "id": "4cfce5ce-007b-45a7-aa56-60eb6ffc235e",
   "metadata": {},
   "outputs": [],
   "source": [
    "path = \"test.png\""
   ]
  },
  {
   "cell_type": "code",
   "execution_count": 37,
   "id": "13696b80-2322-4905-b457-c58ed908edf5",
   "metadata": {},
   "outputs": [],
   "source": [
    "def process_img(im):\n",
    "    im = im.convert('L')\n",
    "    im = np.array(im)\n",
    "    return(255 - (im + 40)) % 255"
   ]
  },
  {
   "cell_type": "code",
   "execution_count": 41,
   "id": "253966ac-3cd4-406f-bfe2-0ffbded8c620",
   "metadata": {},
   "outputs": [],
   "source": [
    "im = Image.open(path)  \n",
    "im = im.convert('L')\n",
    "# im = np.array(im)\n",
    "# print((255 - (im + 40)) % 255)"
   ]
  },
  {
   "cell_type": "code",
   "execution_count": 42,
   "id": "937d6580-1f01-4211-a1dc-07b3986d125d",
   "metadata": {},
   "outputs": [
    {
     "name": "stdout",
     "output_type": "stream",
     "text": [
      "[[215 215 215 215 215 215 215 215 215 215 215 215 215 215 215 215 215 215 215 215 215 215 215 215 215 215 215 215]\n",
      " [215 215 215 215 215 215 215 215 215 215 215 215 215 215 215 215 215 215 215 215 215 215 215 215 215 215 215 215]\n",
      " [215 215 215 215 215 215 215 215 215 215 215 215 215 215 215 215 215 215 215 215 215 215 215 215 215 215 215 215]\n",
      " [215 215 215 215 215 215 215 215 215 215 215 215 215 215 215 215 215 215 215 215 215 215 215 215 215 215 215 215]\n",
      " [215 215 215 215 215 215 215 215 215 215 215 215 215 215 215 215 215 215 215 215 215 215 215 215 215 215 215 215]\n",
      " [215 215 215 215 215 215 215 215 215 215 215 215 215 215 215 215 194 110 105 135 200 215 215 215 215 215 215 215]\n",
      " [215 215 215 215 215 215 215 215 215 215 215 215 215 215 215 183  89  42  30  61 192 215 215 215 215 215 215 215]\n",
      " [215 215 215 215 215 215 215 215 215 215 215 215 215 215 215  96  30  46  71  88 206 215 215 215 215 215 215 215]\n",
      " [215 215 215 215 215 215 215 215 215 215 215 215 215 215 173  37  30  99 211 192 211 215 215 215 215 215 215 215]\n",
      " [215 215 215 215 215 215 215 215 215 215 215 215 215 215 103  30  37 171 215 215 215 215 215 215 215 215 215 215]\n",
      " [215 215 215 215 215 215 215 215 215 215 215 215 215 198  60  30  88 215 215 215 215 215 215 215 215 215 215 215]\n",
      " [215 215 215 215 215 215 215 215 215 215 215 215 215 133  31  34 152 215 215 215 215 215 215 215 215 215 215 215]\n",
      " [215 215 215 215 215 215 215 215 215 215 215 215 215  88  31  64 207 215 215 215 215 215 215 215 215 215 215 215]\n",
      " [215 215 215 215 215 215 215 215 215 215 215 215 196  53  30  92 215 215 215 215 215 215 215 215 215 215 215 215]\n",
      " [215 215 215 215 215 215 215 215 215 215 215 215 177  52  30 116 215 215 215 215 215 215 215 215 215 215 215 215]\n",
      " [215 215 215 215 215 215 215 215 215 215 215 215 159  32  30  63  97 150 215 215 215 215 215 215 215 215 215 215]\n",
      " [215 215 215 215 215 215 215 215 215 215 215 215 143  30  30  30  30  31  90 160 215 215 215 215 215 215 215 215]\n",
      " [215 215 215 215 215 215 215 215 215 215 215 215 142  30  32  93  58  30  30  40 107 215 215 215 215 215 215 215]\n",
      " [215 215 215 215 215 215 215 215 215 215 215 215 145  34  30 172 195 108  51  30  53 116 215 215 215 215 215 215]\n",
      " [215 215 215 215 215 215 215 215 215 215 215 215 180  67  30  98 209 215 181  79  30  83 203 215 215 215 215 215]\n",
      " [215 215 215 215 215 215 215 215 215 215 215 215 213 103  30  30  76 146 214 143  30  43 164 215 215 215 215 215]\n",
      " [215 215 215 215 215 215 215 215 215 215 215 215 215 201 100  30  30  30  70  69  31  67 189 215 215 215 215 215]\n",
      " [215 215 215 215 215 215 215 215 215 215 215 215 215 215 211 118  60  30  30  30  51 113 211 215 215 215 215 215]\n",
      " [215 215 215 215 215 215 215 215 215 215 215 215 215 215 215 215 198 141 100  88 134 203 215 215 215 215 215 215]\n",
      " [215 215 215 215 215 215 215 215 215 215 215 215 215 215 215 215 215 215 215 215 215 215 215 215 215 215 215 215]\n",
      " [215 215 215 215 215 215 215 215 215 215 215 215 215 215 215 215 215 215 215 215 215 215 215 215 215 215 215 215]\n",
      " [215 215 215 215 215 215 215 215 215 215 215 215 215 215 215 215 215 215 215 215 215 215 215 215 215 215 215 215]\n",
      " [215 215 215 215 215 215 215 215 215 215 215 215 215 215 215 215 215 215 215 215 215 215 215 215 215 215 215 215]]\n"
     ]
    }
   ],
   "source": [
    "print(np.array(im))"
   ]
  },
  {
   "cell_type": "code",
   "execution_count": 31,
   "id": "db2c10de-74c1-4eb3-a1fc-420be35e1a1f",
   "metadata": {},
   "outputs": [
    {
     "data": {
      "text/plain": [
       "<matplotlib.image.AxesImage at 0x14ab4d6d0>"
      ]
     },
     "execution_count": 31,
     "metadata": {},
     "output_type": "execute_result"
    },
    {
     "data": {
      "image/png": "[encoded data removed]",
      "text/plain": [
       "<Figure size 640x480 with 1 Axes>"
      ]
     },
     "metadata": {},
     "output_type": "display_data"
    }
   ],
   "source": [
    "plt.imshow(process_img(im))"
   ]
  },
  {
   "cell_type": "code",
   "execution_count": 30,
   "id": "8a07e018-8533-4ff6-a50e-2868373e235e",
   "metadata": {},
   "outputs": [
    {
     "name": "stdout",
     "output_type": "stream",
     "text": [
      "[[  0   0   0   0   0   0   0   0   0   0   0   0   0   0   0   0   0   0   0   0   0   0   0   0   0   0   0   0]\n",
      " [  0   0   0   0   0   0   0   0   0   0   0   0   0   0   0   0   0   0   0   0   0   0   0   0   0   0   0   0]\n",
      " [  0   0   0   0   0  56  72  72  72  72  72  72  72  72  72  72  72  72  72  72  72  72  72  72  72  27   0   0]\n",
      " [  0   0   0   0   0 142 185 185 185 185 185 185 185 185 185 185 185 185 185 185 185 185 185 185 185 104  20   0]\n",
      " [  0   0   0   0   0 139 185 185 185 185 185 185 185 185 185 185 185 185 185 185 185 185 183 185 185 155  54   0]\n",
      " [  0   0   0   0   0  40  51  51  51  51  51  51  51  51  51  51  51  51  51  51  51  51  90 181 185 146  15   0]\n",
      " [  0   0   0   0   0   0   0   0   0   0   0   0   0   0   0   0   0   0   0   0   0   0 121 185 179  62   0   0]\n",
      " [  0   0   0   0   0   0   0   0   0   0   0   0   0   0   0   0   0   0   0   0   0  63 183 185 110   0   0   0]\n",
      " [  0   0   0   0   0   0   0   0   0   0   0   0   0   0   0   0   0   0   0   0  14 141 185 155  19   0   0   0]\n",
      " [  0   0   0   0   0   0   0   0   0   0   0   0   0   0   0   0   0   0   0   0 100 185 185  94   0   0   0   0]\n",
      " [  0   0   0   0   0   0   0   0   0   0   0   0   0   0   0   0   0   0   0  20 161 185 154  17   0   0   0   0]\n",
      " [  0   0   0   0   0   0   0   0   0   0   0   0   0   0   0   0   0   0   0 104 185 185  89   0   0   0   0   0]\n",
      " [  0   0   0   0   0   0   0   0   0   0   0   0   0   0   0   0   0   0  27 164 185 129   2   0   0   0   0   0]\n",
      " [  0   0   0   0   0   0   0   0   0   0   0   0   0   0   0   0   0   0 115 185 178  47   0   0   0   0   0   0]\n",
      " [  0   0   0   0   0   0   0   0   0   0   0   0   0   0   0   0   0  35 173 185 127   0   0   0   0   0   0   0]\n",
      " [  0   0   0   0   0   0   0   0   0   0   0   0   0   0   0   0   0 105 185 181  53   0   0   0   0   0   0   0]\n",
      " [  0   0   0   0   0   0   0   0   0   0   0   0   0   0   0   0  19 155 181 126   0   0   0   0   0   0   0   0]\n",
      " [  0   0   0   0   0   0   0   0   0   0   0   0   0   0   0   0 100 185 181  53   0   0   0   0   0   0   0   0]\n",
      " [  0   0   0   0   0   0   0   0   0   0   0   0   0   0   0  18 149 185 128   2   0   0   0   0   0   0   0   0]\n",
      " [  0   0   0   0   0   0   0   0   0   0   0   0   0   0   0  86 185 184  60   0   0   0   0   0   0   0   0   0]\n",
      " [  0   0   0   0   0   0   0   0   0   0   0   0   0   0   6 142 185 144   8   0   0   0   0   0   0   0   0   0]\n",
      " [  0   0   0   0   0   0   0   0   0   0   0   0   0   0  61 183 185 101   0   0   0   0   0   0   0   0   0   0]\n",
      " [  0   0   0   0   0   0   0   0   0   0   0   0   0   0 114 185 163  23   0   0   0   0   0   0   0   0   0   0]\n",
      " [  0   0   0   0   0   0   0   0   0   0   0   0   0  20 158 185 121   0   0   0   0   0   0   0   0   0   0   0]\n",
      " [  0   0   0   0   0   0   0   0   0   0   0   0   0  84 184 181  63   0   0   0   0   0   0   0   0   0   0   0]\n",
      " [  0   0   0   0   0   0   0   0   0   0   0   0   0 128 184 152   9   0   0   0   0   0   0   0   0   0   0   0]\n",
      " [  0   0   0   0   0   0   0   0   0   0   0   0  12 138 185 115   0   0   0   0   0   0   0   0   0   0   0   0]\n",
      " [  0   0   0   0   0   0   0   0   0   0   0   0  31 145 164  70   0   0   0   0   0   0   0   0   0   0   0   0]]\n"
     ]
    }
   ],
   "source": [
    "print(process_img(im))"
   ]
  },
  {
   "cell_type": "code",
   "execution_count": null,
   "id": "565cd99a-783b-436f-bfe0-c75d2a3cbfa5",
   "metadata": {},
   "outputs": [],
   "source": []
  }
 ],
 "metadata": {
  "kernelspec": {
   "display_name": "Python 3 (ipykernel)",
   "language": "python",
   "name": "python3"
  },
  "language_info": {
   "codemirror_mode": {
    "name": "ipython",
    "version": 3
   },
   "file_extension": ".py",
   "mimetype": "text/x-python",
   "name": "python",
   "nbconvert_exporter": "python",
   "pygments_lexer": "ipython3",
   "version": "3.11.5"
  }
 },
 "nbformat": 4,
 "nbformat_minor": 5
}
